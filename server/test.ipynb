{
 "cells": [
  {
   "cell_type": "code",
   "execution_count": 1,
   "metadata": {},
   "outputs": [],
   "source": [
    "import pandas as pd"
   ]
  },
  {
   "cell_type": "code",
   "execution_count": 3,
   "metadata": {},
   "outputs": [],
   "source": [
    "df = pd.read_csv(\"../datasets/stations.csv\")"
   ]
  },
  {
   "cell_type": "code",
   "execution_count": 4,
   "metadata": {},
   "outputs": [
    {
     "data": {
      "text/html": [
       "<div>\n",
       "<style scoped>\n",
       "    .dataframe tbody tr th:only-of-type {\n",
       "        vertical-align: middle;\n",
       "    }\n",
       "\n",
       "    .dataframe tbody tr th {\n",
       "        vertical-align: top;\n",
       "    }\n",
       "\n",
       "    .dataframe thead th {\n",
       "        text-align: right;\n",
       "    }\n",
       "</style>\n",
       "<table border=\"1\" class=\"dataframe\">\n",
       "  <thead>\n",
       "    <tr style=\"text-align: right;\">\n",
       "      <th></th>\n",
       "      <th>Station</th>\n",
       "      <th>Station Code</th>\n",
       "      <th>Line</th>\n",
       "      <th>Distance From Previous of the Line</th>\n",
       "      <th>Time taken From Previous of the Line</th>\n",
       "      <th>Platforms</th>\n",
       "      <th>Tracks</th>\n",
       "      <th>Year of Opening</th>\n",
       "    </tr>\n",
       "  </thead>\n",
       "  <tbody>\n",
       "    <tr>\n",
       "      <th>0</th>\n",
       "      <td>Churchgate</td>\n",
       "      <td>CCG</td>\n",
       "      <td>Western</td>\n",
       "      <td>0 KM</td>\n",
       "      <td>0 min</td>\n",
       "      <td>4.0</td>\n",
       "      <td>4.0</td>\n",
       "      <td>1867.0</td>\n",
       "    </tr>\n",
       "    <tr>\n",
       "      <th>1</th>\n",
       "      <td>Marine Lines</td>\n",
       "      <td>MEL</td>\n",
       "      <td>Western</td>\n",
       "      <td>1 KM</td>\n",
       "      <td>3 min</td>\n",
       "      <td>4.0</td>\n",
       "      <td>4.0</td>\n",
       "      <td>1867.0</td>\n",
       "    </tr>\n",
       "    <tr>\n",
       "      <th>2</th>\n",
       "      <td>Charni Road</td>\n",
       "      <td>CYR</td>\n",
       "      <td>Western</td>\n",
       "      <td>1 KM</td>\n",
       "      <td>2 min</td>\n",
       "      <td>4.0</td>\n",
       "      <td>4.0</td>\n",
       "      <td>1867.0</td>\n",
       "    </tr>\n",
       "    <tr>\n",
       "      <th>3</th>\n",
       "      <td>Grant Road</td>\n",
       "      <td>GTR</td>\n",
       "      <td>Western</td>\n",
       "      <td>1 KM</td>\n",
       "      <td>3 min</td>\n",
       "      <td>4.0</td>\n",
       "      <td>4.0</td>\n",
       "      <td>1868.0</td>\n",
       "    </tr>\n",
       "    <tr>\n",
       "      <th>4</th>\n",
       "      <td>Mumbai Central</td>\n",
       "      <td>MMCT</td>\n",
       "      <td>Western</td>\n",
       "      <td>1 KM</td>\n",
       "      <td>2 min</td>\n",
       "      <td>9.0</td>\n",
       "      <td>9.0</td>\n",
       "      <td>1930.0</td>\n",
       "    </tr>\n",
       "  </tbody>\n",
       "</table>\n",
       "</div>"
      ],
      "text/plain": [
       "          Station Station Code     Line Distance From Previous of the Line  \\\n",
       "0      Churchgate          CCG  Western                               0 KM   \n",
       "1    Marine Lines          MEL  Western                               1 KM   \n",
       "2     Charni Road          CYR  Western                               1 KM   \n",
       "3      Grant Road          GTR  Western                               1 KM   \n",
       "4  Mumbai Central         MMCT  Western                               1 KM   \n",
       "\n",
       "  Time taken From Previous of the Line  Platforms  Tracks  Year of Opening   \n",
       "0                                0 min        4.0     4.0            1867.0  \n",
       "1                                3 min        4.0     4.0            1867.0  \n",
       "2                                2 min        4.0     4.0            1867.0  \n",
       "3                                3 min        4.0     4.0            1868.0  \n",
       "4                                2 min        9.0     9.0            1930.0  "
      ]
     },
     "execution_count": 4,
     "metadata": {},
     "output_type": "execute_result"
    }
   ],
   "source": [
    "df.head()"
   ]
  },
  {
   "cell_type": "code",
   "execution_count": 8,
   "metadata": {},
   "outputs": [
    {
     "name": "stdout",
     "output_type": "stream",
     "text": [
      "Data has been exported to station.json\n"
     ]
    }
   ],
   "source": [
    "import json\n",
    "df['Station_ID'] = range(1, len(df) + 1)\n",
    "selected_columns = df[['Station_ID', 'Station']]\n",
    "\n",
    "# Convert the selected columns to a list of dictionaries\n",
    "station_data = selected_columns.to_dict(orient='records')\n",
    "\n",
    "output_file = 'station.json'\n",
    "\n",
    "# Export the data as a JSON array to the specified file\n",
    "with open(output_file, 'w') as json_file:\n",
    "    json.dump(station_data, json_file)\n",
    "\n",
    "print(f'Data has been exported to {output_file}')"
   ]
  },
  {
   "cell_type": "code",
   "execution_count": null,
   "metadata": {},
   "outputs": [],
   "source": []
  }
 ],
 "metadata": {
  "kernelspec": {
   "display_name": "Python 3",
   "language": "python",
   "name": "python3"
  },
  "language_info": {
   "codemirror_mode": {
    "name": "ipython",
    "version": 3
   },
   "file_extension": ".py",
   "mimetype": "text/x-python",
   "name": "python",
   "nbconvert_exporter": "python",
   "pygments_lexer": "ipython3",
   "version": "3.11.4"
  },
  "orig_nbformat": 4
 },
 "nbformat": 4,
 "nbformat_minor": 2
}
